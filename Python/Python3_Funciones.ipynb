{
  "nbformat": 4,
  "nbformat_minor": 0,
  "metadata": {
    "colab": {
      "provenance": []
    },
    "kernelspec": {
      "name": "python3",
      "display_name": "Python 3"
    },
    "language_info": {
      "name": "python"
    }
  },
  "cells": [
    {
      "cell_type": "markdown",
      "metadata": {
        "id": "MKCdCm3o8-Qw"
      },
      "source": [
        "# **3.1 Funciones**\n",
        "\n",
        "---\n",
        "Las funciones nos ayudan a agrupar una o varias instrucciones en un bloque de código y posteriormente ejecutarlas cuantas veces queramos. \n",
        "\n",
        "Una función es un bloque de código que solamente se ejecuta cuando es llamado. A una función se le puede dar datos, conocidos como parámetros.\n",
        "Una función puede devolver datos como resultado. \n",
        "\n",
        "Para crear una función en python, se puede utilizar la palabra `def` con una sintáxis en particular. \n",
        "\n",
        "Los argumentos son la información que se da como entrada a la función. La función puede utilizar argumentos para arrojar un resultado en específico. Se pueden agregar tantos argumentos como se requiera, siempre separados por comas. "
      ]
    },
    {
      "cell_type": "code",
      "metadata": {
        "id": "K78fL5Mr8888"
      },
      "source": [
        "# Función en python.\n",
        "def my_function():\n",
        "  print(\"Hello from a function\")"
      ],
      "execution_count": null,
      "outputs": []
    },
    {
      "cell_type": "code",
      "metadata": {
        "colab": {
          "base_uri": "https://localhost:8080/"
        },
        "id": "q9nLfvbA8ctp",
        "outputId": "87e9e531-fbc6-4ff0-fbbc-71134363c054"
      },
      "source": [
        "# Para utilizar una función, simplemente la llamamos después de declararla.\n",
        "my_function()"
      ],
      "execution_count": null,
      "outputs": [
        {
          "output_type": "stream",
          "name": "stdout",
          "text": [
            "Hello from a function\n"
          ]
        }
      ]
    },
    {
      "cell_type": "code",
      "metadata": {
        "id": "hsLyDsTp-13i"
      },
      "source": [
        "# Aqui a \"fname\" se le conoce como parámetro, a \"Emil\", \"Tobias\" y \"Linus\" se les conoce como argumentos. \n",
        "# Cuando uses esta funcio, aseurarse que el argumento sea un string.\n",
        "def my_function(fname):\n",
        "  print(fname + \" García\")"
      ],
      "execution_count": null,
      "outputs": []
    },
    {
      "cell_type": "code",
      "source": [
        "my_function(\"Emil\")\n",
        "my_function(\"Tobias\")\n",
        "my_function(\"Linus\")"
      ],
      "metadata": {
        "colab": {
          "base_uri": "https://localhost:8080/"
        },
        "id": "aanse3Cya87Y",
        "outputId": "359c0776-06c9-4f7b-c88c-dd223fe9e927"
      },
      "execution_count": null,
      "outputs": [
        {
          "output_type": "stream",
          "name": "stdout",
          "text": [
            "Emil García\n",
            "Tobias García\n",
            "Linus García\n"
          ]
        }
      ]
    },
    {
      "cell_type": "code",
      "metadata": {
        "id": "7KY_8hfD_Xk1"
      },
      "source": [
        "# Si una función fue definida con 2 argumentos, deberá de tener como entrada dos argumentos una vez que es llamada. \n",
        "def my_function(fname, lname):\n",
        "  print(fname + \" \" + lname)"
      ],
      "execution_count": null,
      "outputs": []
    },
    {
      "cell_type": "code",
      "source": [
        "my_function(\"Emil\", \"Refsnes\")"
      ],
      "metadata": {
        "colab": {
          "base_uri": "https://localhost:8080/"
        },
        "id": "mHzAen8EbNrT",
        "outputId": "7adaaca1-5087-4b93-9f8f-21d94bce461d"
      },
      "execution_count": null,
      "outputs": [
        {
          "output_type": "stream",
          "name": "stdout",
          "text": [
            "Emil Refsnes\n"
          ]
        }
      ]
    },
    {
      "cell_type": "code",
      "metadata": {
        "id": "DKcY9HQ-ANep"
      },
      "source": [
        "# Se puede enviar argumentos con la sintáxis clave = valor. De esta manera, el orden no importa. \n",
        "def my_function(child3, child2, child1):\n",
        "  print(\"The youngest child is \" + child3)\n",
        "  a = child2 + child1\n",
        "  print(a)"
      ],
      "execution_count": null,
      "outputs": []
    },
    {
      "cell_type": "code",
      "source": [
        "my_function(child1 = \"Emil\", child2 = \"Tobias\", child3 = \"Linus\")"
      ],
      "metadata": {
        "colab": {
          "base_uri": "https://localhost:8080/"
        },
        "id": "cQQyM_Buboq_",
        "outputId": "4c2a9ecb-2aa5-49ab-e17b-4947fa4b22da"
      },
      "execution_count": null,
      "outputs": [
        {
          "output_type": "stream",
          "name": "stdout",
          "text": [
            "The youngest child is Linus\n",
            "TobiasEmil\n"
          ]
        }
      ]
    },
    {
      "cell_type": "code",
      "metadata": {
        "id": "19mt-7inAg_L"
      },
      "source": [
        "# Usando una lista de argumento. \n",
        "def my_function(food):\n",
        "  for x in food:\n",
        "    print(x)"
      ],
      "execution_count": null,
      "outputs": []
    },
    {
      "cell_type": "code",
      "source": [
        "fruits = [\"apple\", \"banana\", \"cherry\", 5, 8, True]\n",
        "\n",
        "my_function(fruits)"
      ],
      "metadata": {
        "colab": {
          "base_uri": "https://localhost:8080/"
        },
        "id": "XVZOkpKscPZT",
        "outputId": "6a1a5a1a-63e0-477f-a555-a02d9d5f6af2"
      },
      "execution_count": null,
      "outputs": [
        {
          "output_type": "stream",
          "name": "stdout",
          "text": [
            "apple\n",
            "banana\n",
            "cherry\n",
            "5\n",
            "8\n",
            "True\n"
          ]
        }
      ]
    },
    {
      "cell_type": "code",
      "source": [
        "def funcion(lista):\n",
        "  print(lista[-1])\n",
        "  for x in range(len(lista)):\n",
        "    print(lista[x])\n"
      ],
      "metadata": {
        "id": "McVeZ2LRtBlM"
      },
      "execution_count": null,
      "outputs": []
    },
    {
      "cell_type": "code",
      "source": [
        "ejemplo= [1,2,3,4,5,6,7,8,9]\n",
        "\n",
        "funcion(ejemplo)"
      ],
      "metadata": {
        "colab": {
          "base_uri": "https://localhost:8080/"
        },
        "id": "Xww5L9P6uBF-",
        "outputId": "6e5bb1d2-f629-4de8-e6cc-b8c153eb0c42"
      },
      "execution_count": null,
      "outputs": [
        {
          "output_type": "stream",
          "name": "stdout",
          "text": [
            "9\n",
            "1\n",
            "2\n",
            "3\n",
            "4\n",
            "5\n",
            "6\n",
            "7\n",
            "8\n",
            "9\n"
          ]
        }
      ]
    },
    {
      "cell_type": "markdown",
      "metadata": {
        "id": "bHSYpZ0E7-3g"
      },
      "source": [
        "Existen funciones creadas y funciones predeterminadas o built-in. \n",
        "\n",
        "https://docs.python.org/3/library/functions.html "
      ]
    },
    {
      "cell_type": "markdown",
      "metadata": {
        "id": "v2awb3NnB2ks"
      },
      "source": [
        "---\n",
        "**M.Sc. Daniel López**\n",
        "\n",
        "**UA: Inteligencia Artificial.**\n",
        "\n",
        "Fuentes: \n",
        "1. w3schools.com/python/default.asp\n",
        "2. codecademy.com \n",
        "3. Matthes, E. (2019). Python crash course: A hands-on, project-based introduction to programming. no starch press.\n"
      ]
    }
  ]
}