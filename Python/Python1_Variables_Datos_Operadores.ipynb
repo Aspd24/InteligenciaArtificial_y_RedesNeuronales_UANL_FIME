{
  "nbformat": 4,
  "nbformat_minor": 0,
  "metadata": {
    "colab": {
      "provenance": []
    },
    "kernelspec": {
      "name": "python3",
      "display_name": "Python 3"
    },
    "language_info": {
      "name": "python"
    }
  },
  "cells": [
    {
      "cell_type": "markdown",
      "metadata": {
        "id": "o-hxfVQs6O3n"
      },
      "source": [
        "#**1.1 ¿Qué es Python?**#\n",
        "\n",
        "---\n",
        "Python es un lenguaje de programación muy popular creado por Guido van Rossum en 1991.\n",
        "\n",
        "Es ampliamente utilizado para diferentes aplicaciones:\n",
        "- Desarrollo de web.\n",
        "- Desarrollo de software.\n",
        "- Conexión de bases de datos. \n",
        "- Trabajar con diferentes tipos de datos y realizar operaciones matemáticas complejas. \n",
        "- Para prototipado rápido. \n",
        "- Etc.\n",
        "\n",
        "Existen dos versiones de Python: Python 2 y Python 3. \n",
        "En esta clase nos enfoacremos en *Python 3*. \n",
        "\n",
        "Además de las diferentes aplicaciones que tiene, Python se distingue por su fácil sintáxis. Depende mas de la indentación y no tanto de paréntesis ni puntos y comas. \n",
        "\n",
        "Para fines prácticos, en esta clase usaremos Google Colaborative: https://colab.research.google.com/notebooks/welcome.ipynb?hl=es \n",
        "\n",
        "Google Colab nos permite ejecutar y programar en Python sin necesidad de instalar algo directamente en nuestra computadora. \n",
        "\n",
        "Sin embargo existen otros entornos para desarrollar y ejecutar nuestro código en Python, como Jupyter o Spyder. \n"
      ]
    },
    {
      "cell_type": "code",
      "metadata": {
        "id": "4OH7nCHL57pO",
        "colab": {
          "base_uri": "https://localhost:8080/"
        },
        "outputId": "697c79da-b4de-4bba-ff48-416f89658530"
      },
      "source": [
        "print(\"Hello World!\")"
      ],
      "execution_count": null,
      "outputs": [
        {
          "output_type": "stream",
          "name": "stdout",
          "text": [
            "Hello World!\n"
          ]
        }
      ]
    },
    {
      "cell_type": "code",
      "metadata": {
        "colab": {
          "base_uri": "https://localhost:8080/"
        },
        "id": "6-CjWbDcpJqy",
        "outputId": "25168d4a-35ba-4f1e-f217-54fd32da11c0"
      },
      "source": [
        "if 5>2:\n",
        "  print(\"Five is greater than two!\")"
      ],
      "execution_count": null,
      "outputs": [
        {
          "output_type": "stream",
          "name": "stdout",
          "text": [
            "Five is greater than two!\n"
          ]
        }
      ]
    },
    {
      "cell_type": "markdown",
      "metadata": {
        "id": "D768ncm_6xzN"
      },
      "source": [
        "# **1.2 Comentarios en Python**\n",
        "\n",
        "---\n",
        "\n",
        "Los comentarios se pueden utilizar para explicar cómo funciona un código o una parte de código, para no ejecutar una parte del código, etc. \n",
        "\n",
        "Existen dos maneras de realizar comentarios en celdas de código:\n",
        "- Con un numeral \"#\"\n",
        "- Con triple comilla \"\"\" comment \"\"\" "
      ]
    },
    {
      "cell_type": "code",
      "metadata": {
        "id": "4_dJExqv69E9",
        "colab": {
          "base_uri": "https://localhost:8080/"
        },
        "outputId": "2ca1f5c0-b4ca-4927-e368-47bbd2944bde"
      },
      "source": [
        "# Primera parte de código\n",
        "msg = \"Esta es la clase de Inteligencia Artificial :D\"\n",
        "print(msg)"
      ],
      "execution_count": null,
      "outputs": [
        {
          "output_type": "stream",
          "name": "stdout",
          "text": [
            "Esta es la clase de Inteligencia Artificial :D\n"
          ]
        }
      ]
    },
    {
      "cell_type": "code",
      "metadata": {
        "colab": {
          "base_uri": "https://localhost:8080/"
        },
        "id": "ffFsVpZmrCsb",
        "outputId": "fa2a6809-284a-4a79-f02a-d0728563b067"
      },
      "source": [
        "msg = \"Esta es la clase de Inteligencia Artificial :D\" # Mi primer string en Python\n",
        "print(msg)"
      ],
      "execution_count": null,
      "outputs": [
        {
          "output_type": "stream",
          "name": "stdout",
          "text": [
            "Esta es la clase de Inteligencia Artificial :D\n"
          ]
        }
      ]
    },
    {
      "cell_type": "code",
      "metadata": {
        "colab": {
          "base_uri": "https://localhost:8080/"
        },
        "id": "bqTjMsJ_qbfW",
        "outputId": "53133a46-86a8-4c49-df1f-ff2ecd798444"
      },
      "source": [
        "\"\"\"\n",
        "Nombre: Daniel López\n",
        "Clase: Inteligencia Artificial. \n",
        "Título: Mi primer código en Python\n",
        "\"\"\"\n",
        "msg = \"Esta es la clase de Inteligencia Artificial :D\"\n",
        "print(msg)"
      ],
      "execution_count": null,
      "outputs": [
        {
          "output_type": "stream",
          "name": "stdout",
          "text": [
            "Esta es la clase de Inteligencia Artificial :D\n"
          ]
        }
      ]
    },
    {
      "cell_type": "markdown",
      "metadata": {
        "id": "Hm1uXWqM69ee"
      },
      "source": [
        "# **1.3 Variables**\n",
        "---\n",
        "En Python, las variables nos ayudan a almacenar datos. Una ventaja en Python es que no hay que declarar las variables antes de empezar a utilizarlas, solo que hay que darles un valor predeterminado. \n"
      ]
    },
    {
      "cell_type": "code",
      "metadata": {
        "id": "xgauq_op7lvz",
        "colab": {
          "base_uri": "https://localhost:8080/"
        },
        "outputId": "f1343127-3f29-42e5-ec10-b0e9b7306dc1"
      },
      "source": [
        "x = 10 # entero\n",
        "y = \"Pancho\" # cadena de caracteres\n",
        "z = False # booleano\n",
        "print(x)\n",
        "print(y)\n",
        "print(z)\n",
        "type(x)"
      ],
      "execution_count": null,
      "outputs": [
        {
          "output_type": "stream",
          "name": "stdout",
          "text": [
            "10\n",
            "Pancho\n",
            "False\n"
          ]
        },
        {
          "output_type": "execute_result",
          "data": {
            "text/plain": [
              "int"
            ]
          },
          "metadata": {},
          "execution_count": 10
        }
      ]
    },
    {
      "cell_type": "code",
      "metadata": {
        "colab": {
          "base_uri": "https://localhost:8080/"
        },
        "id": "RiYKwq2Xtfye",
        "outputId": "7080f934-fa5f-4742-b35a-f73668925028"
      },
      "source": [
        "# Realizar operaciones con variables. \n",
        "x = 5\n",
        "y = 4\n",
        "z = 22\n",
        "\n",
        "print(x + y + z)"
      ],
      "execution_count": null,
      "outputs": [
        {
          "output_type": "stream",
          "name": "stdout",
          "text": [
            "31\n"
          ]
        }
      ]
    },
    {
      "cell_type": "code",
      "source": [
        "# Concatenar cadena de caracteres\n",
        "x = \"Daniel\"\n",
        "y = \"Lopez\"\n",
        "print(x + \" \" + y)"
      ],
      "metadata": {
        "colab": {
          "base_uri": "https://localhost:8080/"
        },
        "id": "jNt1fTK9AyBw",
        "outputId": "132acd37-f176-488f-8f0d-c11e8dfb9f60"
      },
      "execution_count": null,
      "outputs": [
        {
          "output_type": "stream",
          "name": "stdout",
          "text": [
            "Daniel Lopez\n"
          ]
        }
      ]
    },
    {
      "cell_type": "markdown",
      "metadata": {
        "id": "q2szQfZe7mFG"
      },
      "source": [
        "# **1.4 Tipos de datos**\n",
        "---\n",
        "Existen diferentes tipos de datos en Python, pero nosotros nos enfocaremos en: \n",
        "\n",
        "- Texto:\t`str`\n",
        "- Numericos:\t`int`, `float`, `complex`\n",
        "- Secuenciales:\t`list`, `tuple`\n",
        "- Booleanos:\t`bool`\n",
        "\n",
        "\n"
      ]
    },
    {
      "cell_type": "code",
      "metadata": {
        "id": "VkUZsRDq7ohu"
      },
      "source": [
        "# Ejemplos de datos \n",
        "\n",
        "x = \"hola Mundo\" # str\n",
        "y = 5 # int\n",
        "z = 65.47 # float\n",
        "s = 1j # complex\n",
        "a = ['manzana', 'plátano', 'naranja'] # lista\n",
        "b = ('manzana', 'plátano', 'naranja') # tupla\n",
        "c = True #booleano\n"
      ],
      "execution_count": null,
      "outputs": []
    },
    {
      "cell_type": "markdown",
      "metadata": {
        "id": "10Ycd_d9tIfu"
      },
      "source": [
        "Se pueden convertir de un tipo de dato a otro:\n",
        "\n",
        "- `x = str(3)`\n",
        "- `y = int(3)`\n",
        "- `z = float(3)`\n",
        "\n",
        "También se puede verificar el tipo de dato que contiene una variable con \"`type`\"."
      ]
    },
    {
      "cell_type": "code",
      "metadata": {
        "colab": {
          "base_uri": "https://localhost:8080/"
        },
        "id": "RvPlTgsgIOqu",
        "outputId": "9c8b5105-58ad-41a5-986e-ace27bcce54b"
      },
      "source": [
        "# Un valor puede convertirse en diferentes tipos de datos. \n",
        "x = str(3)\n",
        "y = int(3)\n",
        "z = float(3)\n",
        "\n",
        "print(x)\n",
        "print(y)\n",
        "print(z)\n",
        "\n",
        "# Verificar el tipo de dato con \"type\"\n",
        "print(type(x))\n",
        "print(type(y))\n",
        "print(type(z))"
      ],
      "execution_count": null,
      "outputs": [
        {
          "output_type": "stream",
          "name": "stdout",
          "text": [
            "3\n",
            "3\n",
            "3.0\n",
            "<class 'str'>\n",
            "<class 'int'>\n",
            "<class 'float'>\n"
          ]
        }
      ]
    },
    {
      "cell_type": "markdown",
      "metadata": {
        "id": "hELgQWRP7ow-"
      },
      "source": [
        "## 1.4.1 Números\n",
        "\n",
        "Como se mencionó anteriormente, existen tres tipos de datos numéricos:\n",
        "- enteros\n",
        "- flotantes\n",
        "- complejos\n",
        "\n",
        "El entero (*int*) es un número sin decimales, un número completo, negativo o positivo. \n",
        "\n",
        "El flotante (*float*) es un número que contiene una o mas decimales, puede tener signo positivo o negativo. \n",
        "\n",
        "El número complejo (*complex*) es un número con una parte real y una parte imaginaria. La parte imaginaria se escribe con la letra \"j\". "
      ]
    },
    {
      "cell_type": "code",
      "metadata": {
        "id": "m3cr5RPs7xWQ",
        "colab": {
          "base_uri": "https://localhost:8080/"
        },
        "outputId": "72f899df-511f-473e-ef72-90c1b207eed1"
      },
      "source": [
        "x = 1    # int\n",
        "y = 2.8  # float\n",
        "z = 1j   # complex\n",
        "\n",
        "#convert from int to float:\n",
        "a = float(x)\n",
        "\n",
        "#convert from float to int:\n",
        "b = int(y)\n",
        "\n",
        "#convert from int to complex:\n",
        "c = complex(x)\n",
        "\n",
        "print(a)\n",
        "print(b)\n",
        "print(c)\n",
        "\n",
        "print(type(a))\n",
        "print(type(b))\n",
        "print(type(c))"
      ],
      "execution_count": null,
      "outputs": [
        {
          "output_type": "stream",
          "name": "stdout",
          "text": [
            "1.0\n",
            "2\n",
            "(1+0j)\n",
            "<class 'float'>\n",
            "<class 'int'>\n",
            "<class 'complex'>\n"
          ]
        }
      ]
    },
    {
      "cell_type": "markdown",
      "metadata": {
        "id": "tEnvQjWk7x7v"
      },
      "source": [
        "## 1.4.2 Cadena de caracteres\n",
        "\n",
        "Una cadena de caracteres puede estar rodeada de comillas simples o dobles.\n"
      ]
    },
    {
      "cell_type": "code",
      "metadata": {
        "id": "uFq5V5iM8AbZ",
        "colab": {
          "base_uri": "https://localhost:8080/"
        },
        "outputId": "138b1ad2-92ce-4f7e-ed80-476d88c247fd"
      },
      "source": [
        "a = \"hello!\"\n",
        "b = 'hello!'\n",
        "\n",
        "print(a)\n",
        "print(b)"
      ],
      "execution_count": null,
      "outputs": [
        {
          "output_type": "stream",
          "name": "stdout",
          "text": [
            "hello!\n",
            "hello!\n"
          ]
        }
      ]
    },
    {
      "cell_type": "code",
      "metadata": {
        "id": "1a-8qMelmR2A",
        "colab": {
          "base_uri": "https://localhost:8080/"
        },
        "outputId": "03c24491-19d6-4821-a908-20a49d739d61"
      },
      "source": [
        "# Strings multilinea\n",
        "a = \"\"\"Lorem ipsum dolor sit amet,\n",
        "consectetur adipiscing elit,\n",
        "sed do eiusmod tempor incididunt\n",
        "ut labore et dolore magna aliqua.\"\"\"\n",
        "print(a)"
      ],
      "execution_count": null,
      "outputs": [
        {
          "output_type": "stream",
          "name": "stdout",
          "text": [
            "Lorem ipsum dolor sit amet,\n",
            "consectetur adipiscing elit,\n",
            "sed do eiusmod tempor incididunt\n",
            "ut labore et dolore magna aliqua.\n"
          ]
        }
      ]
    },
    {
      "cell_type": "markdown",
      "metadata": {
        "id": "eXS9MslYm_-4"
      },
      "source": [
        "La funcion `len()` nos da la extensión de una cadena de caracteres. "
      ]
    },
    {
      "cell_type": "code",
      "metadata": {
        "colab": {
          "base_uri": "https://localhost:8080/"
        },
        "id": "nUY5ohM-nHea",
        "outputId": "e16d7729-6562-472b-a586-e1ad0b4925ec"
      },
      "source": [
        "a = \"¡La pizza de Don Cangrejo es la mejor! \"\n",
        "print(len(a))"
      ],
      "execution_count": null,
      "outputs": [
        {
          "output_type": "stream",
          "name": "stdout",
          "text": [
            "39\n"
          ]
        }
      ]
    },
    {
      "cell_type": "markdown",
      "metadata": {
        "id": "7lAjYbZqoLie"
      },
      "source": [
        "Para unir o concatenar dos strings se puede usar el operador `+`."
      ]
    },
    {
      "cell_type": "code",
      "metadata": {
        "colab": {
          "base_uri": "https://localhost:8080/"
        },
        "id": "xFo9b0ivoTru",
        "outputId": "af52c82c-5508-4eb1-fe22-031bbe074a99"
      },
      "source": [
        "a = \"Mi nombre es: \"\n",
        "b = \"Daniel\"\n",
        "c = a + b\n",
        "print(c)"
      ],
      "execution_count": null,
      "outputs": [
        {
          "output_type": "stream",
          "name": "stdout",
          "text": [
            "Mi nombre es: Daniel\n"
          ]
        }
      ]
    },
    {
      "cell_type": "markdown",
      "metadata": {
        "id": "2jU2PRh38KTn"
      },
      "source": [
        "## 1.4.3 Booleanos\n",
        "\n",
        "En programación a veces necesitamos saber si una expresión es verdadera o falsa, `True` o `False`, respectivamente. \n"
      ]
    },
    {
      "cell_type": "code",
      "metadata": {
        "id": "qaVGC7598Ooq",
        "colab": {
          "base_uri": "https://localhost:8080/"
        },
        "outputId": "14e0ced1-d8b7-4412-ea46-4850f180d7e9"
      },
      "source": [
        "# Expresiones a ser evaluadas. \n",
        " \n",
        "print(10 > 9)\n",
        "print(10 == 9)\n",
        "print(10 < 9)\n"
      ],
      "execution_count": null,
      "outputs": [
        {
          "output_type": "stream",
          "name": "stdout",
          "text": [
            "True\n",
            "False\n",
            "False\n"
          ]
        }
      ]
    },
    {
      "cell_type": "markdown",
      "metadata": {
        "id": "Yfe0p9e58PNN"
      },
      "source": [
        "# **1.5 Operadores**\n",
        "---\n",
        "Los operadores se utilizan para realizar operaciones con valores y variables. \n",
        "\n",
        "Los principales operadores son:\n",
        "- Aritméticos\n",
        "- Asignación\n",
        "- Comparación\n",
        "- Lógicos"
      ]
    },
    {
      "cell_type": "code",
      "metadata": {
        "id": "x2wIbRF_8dpT",
        "colab": {
          "base_uri": "https://localhost:8080/"
        },
        "outputId": "92a7594e-3a2c-466a-f8e9-6ec595d96e4f"
      },
      "source": [
        "print(21 + 2)"
      ],
      "execution_count": null,
      "outputs": [
        {
          "output_type": "stream",
          "name": "stdout",
          "text": [
            "23\n"
          ]
        }
      ]
    },
    {
      "cell_type": "markdown",
      "metadata": {
        "id": "a6U_RYhXsN-6"
      },
      "source": [
        "## 1.5.1 Aritméticos\n",
        "\n",
        "- Adición:  `+` , `x + y`\n",
        "- Sustracción: `-` , `x - y`\n",
        "- Multiplicación: `*` , `x * y`\n",
        "- División: `/` , `x / y`\n",
        "- Módulo: `%`, `x % y`\n",
        "- Exponencial: `**`, `x ** y`\n",
        "\n",
        "## 1.5.2 Asignación\n",
        "\n",
        "- `=` ,  `x = 5` , `x = 5`\n",
        "- `+=` , `x += 3`, `x = x + 3`\n",
        "- `-=` , `x -= 3`, `x = x - 3`\n",
        "- `*=` , `x *= 3`, `x = x * 3`\n",
        "- `/=` , `x /= 3`, `x = x / 3` \n",
        "\n",
        "## 1.5.3 Comparación\n",
        "\n",
        "- Igual: `==` , `x == y`\n",
        "- Diferente de: `!=` , `x != y`\n",
        "- Mayor que: `>` , `x > y` \n",
        "- Menor que: `<` , `x < y`\n",
        "- Mayor o igual que: `>=` , `x >= y`\n",
        "- Menor o igual que: `<=` , `x <= y`\n",
        "\n",
        "## 1.5.4 Lógicos\n",
        "\n",
        "- `and`: regresa `True` si ambas expresiones son verdaderas. \n",
        "\n",
        "    `x < 5 and x < 10`\n",
        "\n",
        "- `or`: regresa `True` si una de las expresiones es verdadera. \n",
        "\n",
        "    `x < 5 or x < 4`\n",
        "\n",
        "- `not`: Regresa un `False` si el resultado es `True`.\n",
        "\n",
        "    `not (5 < 4)`"
      ]
    },
    {
      "cell_type": "markdown",
      "metadata": {
        "id": "O2lN1OYA-iR_"
      },
      "source": [
        "\n",
        "\n",
        "---\n",
        "\n",
        "\n",
        "**M.Sc. Daniel López**\n",
        "\n",
        "**UA: Inteligencia Artificial.**\n",
        "\n",
        "Fuentes: \n",
        "1. w3schools.com/python/default.asp\n",
        "2. codecademy.com \n",
        "3. Matthes, E. (2019). Python crash course: A hands-on, project-based introduction to programming. no starch press.\n"
      ]
    }
  ]
}